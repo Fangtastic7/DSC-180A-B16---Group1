{
 "cells": [
  {
   "cell_type": "code",
   "execution_count": 9,
   "metadata": {},
   "outputs": [],
   "source": [
    "import pandas as pd\n",
    "from cryptography.hazmat.primitives.ciphers import Cipher, algorithms, modes\n",
    "from cryptography.hazmat.backends import default_backend\n",
    "import ipfshttpclient\n",
    "import os\n",
    "import io"
   ]
  },
  {
   "cell_type": "code",
   "execution_count": 3,
   "metadata": {},
   "outputs": [],
   "source": [
    "# Load dataset\n",
    "data = pd.read_csv('data.csv')\n",
    "data_bytes = data.to_csv(index=False).encode()  # Convert CSV data to bytes for encryption\n",
    "\n",
    "# Generate AES encryption key\n",
    "key = os.urandom(32)  # AES-256 requires a 32-byte key\n",
    "\n",
    "# Encrypt dataset\n",
    "iv = os.urandom(12)  # 12-byte nonce for GCM mode\n",
    "cipher = Cipher(algorithms.AES(key), modes.GCM(iv), backend=default_backend())\n",
    "encryptor = cipher.encryptor()\n",
    "encrypted_data = encryptor.update(data_bytes) + encryptor.finalize()\n",
    "tag = encryptor.tag  # Authentication tag for GCM"
   ]
  },
  {
   "cell_type": "code",
   "execution_count": 4,
   "metadata": {},
   "outputs": [
    {
     "name": "stdout",
     "output_type": "stream",
     "text": [
      "b'\\xb3\\xed\\x0bD\\xdc\\xeb7\\x1dP\\r=\\xf0\\x1aw\\xc0\\xb3\\x9d\\xaa\\xe9$\\x03\\xca:\\xca;\\x88E\\xfd\\x0c\\x18c\\x90\\x15\\x0b\\x98?\\x8e\\xeb$\\xa3\\x9c\\x18\\x89\\xa1\\x85\\x11\\x14\\xe7M\\x95\\xb7\\x0f\\xb4}\\x17\\xbcAS\\x02S\\x14 \\xf0\\xf7K\\xc3^}K\\xf5\\x00\\xbcr\\x91(;0\\x15`\\xcc\\n#m=\\xdb\\xf7-\\xaf\\xce\\xd5\\x97\\xd3\\x91\\xb4,\\xff\\xb8\\xc4\\x8a\\x1c\\xcb\\x93\\x98\\xb5DV\\xfa\\xf6\\xe9R\\x03\\xa3\\xad\\xdf\\x01M\\xbf\\x14\\xa4Z\\x1c$M\\x84\\xa1\\x8f\\xe4xG\\x82\"\\xad\\xe1\\xa4\\x92\\x19U\\x8a\\xa3:\\x8a\\xf9\\xd3\\xf2\\xb73\\xd1\\xcc\\x8e\\\\\\xc1\\x8f\\xd4\\x8c1\\xeb@C\\x7f\\x1d\\x8c\\xa5\\x12\\x02\\x02$Y\\xc2a[\\xdc\\x93\\xc1\\x9dj\\xe4y\\x82f\\xa9\\x80&z\\xaa\\x97\\x15\\x02\\x04\\xd8\\x92\\xb8wt\\'\\x84h\\xb8Z[\\xee\\xc1z\\x1b\\x9f,:j\\xc3!A\\xab\\x0f?d@\\xd3r\\xeb\\xee]\\xbc\\xf3\\xef\\xb0\\x14\\x18\\x01K=\\x05;\\xc3\\xe0\\xb0\\xba\\xb1\\x0f\\xa3\\n\\x8e\\xe9\\xe3o\\xa2\\x1c\\xb5\\xe8\\x10\\x00$\\x99\\xde\\x8aw\\xbf%\\xb01\\xdb&fFW\\x8eh%j\\xf4\\xed\\xb5*U\\xc6\\xb0\\x15\\xcfs\\x93\\x13>m\\x0b\\xc8\\x00\\x97\\xe1\\xe0:\\xe9\\xed\\xea\"\\xc50[\\xc5,\\xfa=uQ\\xb2\\x15p\\tY\\xb8\\x9fw\\xe1\\xd6\\xc5\\xc6yo\\xe9\\x12\\xc0\\xcd\\x059\\x10\\x12*\\xb4pm\\xfe\\r2\\xdd\\n$c\\x9c\\x92\\xfd\\xb1O\\x1a\\x19\\x8cSi\\xd6U\\xc5\\xa0}\\x99B\\x03\\x19\\xf7\\xc3\\xc7\\xefm\\x10Z\\xc1o\\x06\\x1d\\xf5\\xa8\\x88W\\xba\\x91XM!i\\xdf\\xdb\\xff\\t1\\x9a\\xb4\\xee\\xbd\\xf6l:_\\xb8\\xf7\\xa7\\xd0I\\x03\\xa0\\xa3!w\\n\\x98\\x98f-0\\xf8JtlV\\xffJ\\xdd\\xd2PC\\xe4\\x15\\r\\x86\\xad\\xa0\\xdf\\x1f\\x7f\\xcfs\\x08\\xd80\\x8f\\xb5[\\x95\\xcem\\x0e\\x9b\\x0f\\xc8x'\n"
     ]
    }
   ],
   "source": [
    "print(encrypted_data)"
   ]
  },
  {
   "cell_type": "code",
   "execution_count": 7,
   "metadata": {},
   "outputs": [
    {
     "name": "stdout",
     "output_type": "stream",
     "text": [
      "   customer_id             name                     email  age          city  \\\n",
      "0            1         John Doe      john.doe@example.com   29      New York   \n",
      "1            2       Jane Smith    jane.smith@example.com   34   Los Angeles   \n",
      "2            3      Emily Davis   emily.davis@example.com   41       Chicago   \n",
      "3            4  Michael Johnson     michael.j@example.com   50       Houston   \n",
      "4            5     Sarah Wilson  sarah.wilson@example.com   25       Phoenix   \n",
      "5            6   David Martinez       david.m@example.com   37  Philadelphia   \n",
      "6            7   Linda Anderson       linda.a@example.com   31   San Antonio   \n",
      "\n",
      "   annual_income  \n",
      "0          75000  \n",
      "1          80000  \n",
      "2          67000  \n",
      "3          92000  \n",
      "4          62000  \n",
      "5          78000  \n",
      "6          68000  \n"
     ]
    }
   ],
   "source": [
    "# Decrypt dataset\n",
    "cipher = Cipher(algorithms.AES(key), modes.GCM(iv, tag), backend=default_backend())\n",
    "decryptor = cipher.decryptor()\n",
    "decrypted_data = decryptor.update(encrypted_data) + decryptor.finalize()\n",
    "\n",
    "# Convert bytes back to CSV and load as DataFrame\n",
    "decrypted_df = pd.read_csv(io.StringIO(decrypted_data.decode()))\n",
    "print(decrypted_df)\n"
   ]
  },
  {
   "cell_type": "code",
   "execution_count": 10,
   "metadata": {},
   "outputs": [],
   "source": [
    "# Save as binary file\n",
    "with open(\"encrypted_dataset.bin\", \"wb\") as f:\n",
    "    f.write(encrypted_data)"
   ]
  },
  {
   "cell_type": "code",
   "execution_count": 1,
   "metadata": {},
   "outputs": [
    {
     "ename": "",
     "evalue": "",
     "output_type": "error",
     "traceback": [
      "\u001b[1;31mThe Kernel crashed while executing code in the the current cell or a previous cell. Please review the code in the cell(s) to identify a possible cause of the failure. Click <a href='https://aka.ms/vscodeJupyterKernelCrash'>here</a> for more info. View Jupyter <a href='command:jupyter.viewOutput'>log</a> for further details."
     ]
    },
    {
     "ename": "",
     "evalue": "",
     "output_type": "error",
     "traceback": [
      "\u001b[1;31mCanceled future for execute_request message before replies were done"
     ]
    }
   ],
   "source": [
    "import tenseal as ts\n",
    "\n",
    "# Step 1: Create a TenSEAL context\n",
    "context = ts.context(ts.SCHEME_TYPE.CKKS, poly_modulus_degree=8192, coeff_mod_bit_sizes=[60, 40, 40, 60])\n",
    "context.global_scale = 2**40\n",
    "context.generate_galois_keys()\n",
    "\n",
    "# Step 2: Encrypt the dataset\n",
    "data = [1.23, 4.56, 7.89]  # Example dataset\n",
    "encrypted_data = ts.ckks_vector(context, data)  # Encrypt data using CKKS scheme\n",
    "\n",
    "# Step 3: Perform computation on encrypted data\n",
    "encrypted_result = encrypted_data * 2  # Multiply by 2 (done on encrypted data)\n",
    "\n",
    "# Step 4: Decrypt the result\n",
    "decrypted_result = encrypted_result.decrypt()\n",
    "print(\"Decrypted Result:\", decrypted_result)"
   ]
  },
  {
   "cell_type": "code",
   "execution_count": null,
   "metadata": {},
   "outputs": [],
   "source": [
    "import pandas as pd\n",
    "\n",
    "# Load dataset\n",
    "data = pd.read_csv(\"data.csv\")\n",
    "\n",
    "# Convert to numeric format suitable for encryption\n",
    "flattened_data = data.values.flatten().tolist()\n",
    "\n",
    "# Encrypt using CKKS\n",
    "encrypted_data = ts.ckks_vector(context, flattened_data)"
   ]
  }
 ],
 "metadata": {
  "kernelspec": {
   "display_name": "dsc80",
   "language": "python",
   "name": "python3"
  },
  "language_info": {
   "codemirror_mode": {
    "name": "ipython",
    "version": 3
   },
   "file_extension": ".py",
   "mimetype": "text/x-python",
   "name": "python",
   "nbconvert_exporter": "python",
   "pygments_lexer": "ipython3",
   "version": "3.8.16 (default, Jan 17 2023, 16:42:09) \n[Clang 14.0.6 ]"
  },
  "orig_nbformat": 4,
  "vscode": {
   "interpreter": {
    "hash": "73ef32c7518054f76611ed7d18e673b77ebb59e628064307b4343dec018a062a"
   }
  }
 },
 "nbformat": 4,
 "nbformat_minor": 2
}
